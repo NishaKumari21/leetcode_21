{
 "cells": [
  {
   "cell_type": "code",
   "execution_count": 1,
   "id": "6359eda7",
   "metadata": {},
   "outputs": [],
   "source": [
    "import pandas as pd\n",
    "from typing import List\n",
    "def createDataframe(student_data: List[List[int]]) -> pd.DataFrame:\n",
    "    return pd.DataFrame(student_data, columns=[\"student_id\", \"age\"])"
   ]
  },
  {
   "cell_type": "markdown",
   "id": "f5dc9eb4",
   "metadata": {},
   "source": [
    "## creating pandas dataframe with columns['student_id'] and columns['age']"
   ]
  },
  {
   "cell_type": "code",
   "execution_count": 3,
   "id": "1d9ef0d6",
   "metadata": {},
   "outputs": [
    {
     "name": "stdout",
     "output_type": "stream",
     "text": [
      "   student_id  age\n",
      "0           1   15\n",
      "1           2   11\n",
      "2           3   11\n",
      "3           4   20\n"
     ]
    }
   ],
   "source": [
    "student_data = [[1, 15], [2, 11], [3, 11], [4, 20]]\n",
    "df = createDataframe(student_data)\n",
    "print(df)"
   ]
  },
  {
   "cell_type": "markdown",
   "id": "f1f83a10",
   "metadata": {},
   "source": [
    "## to return rows and columns"
   ]
  },
  {
   "cell_type": "code",
   "execution_count": 4,
   "id": "99f2379f",
   "metadata": {},
   "outputs": [],
   "source": [
    "import pandas as pd\n",
    "from typing import List\n",
    "def getDataframeSize(players: pd.DataFrame) -> List[int]:\n",
    "     return [players.shape[0], players.shape[1]]"
   ]
  },
  {
   "cell_type": "markdown",
   "id": "7c9db243",
   "metadata": {},
   "source": [
    "## to select the student['student_id']=101 bt show only 2 columns 'name' and 'age"
   ]
  },
  {
   "cell_type": "code",
   "execution_count": 5,
   "id": "ea4a18f0",
   "metadata": {},
   "outputs": [],
   "source": [
    "import pandas as pd\n",
    "from typing import List\n",
    "def selectData(students: pd.DataFrame) -> pd.DataFrame:\n",
    "    return students[students['student_id']==101][['name','age']]"
   ]
  },
  {
   "cell_type": "markdown",
   "id": "1d4d3dae",
   "metadata": {},
   "source": [
    "## to create a new column and make its values double the value of slaray"
   ]
  },
  {
   "cell_type": "code",
   "execution_count": 6,
   "id": "83b9831f",
   "metadata": {},
   "outputs": [],
   "source": [
    "import pandas as pd\n",
    "from typing import List\n",
    "def createBonusColumn(employees: pd.DataFrame) -> pd.DataFrame:\n",
    "    employees['bonus']=employees['salary']*2\n",
    "    return employees"
   ]
  },
  {
   "cell_type": "markdown",
   "id": "e2427803",
   "metadata": {},
   "source": [
    "## to remove the duplicate value"
   ]
  },
  {
   "cell_type": "code",
   "execution_count": 7,
   "id": "07373ece",
   "metadata": {},
   "outputs": [],
   "source": [
    "import pandas as pd\n",
    "from typing import List\n",
    "def dropDuplicateEmails(customers: pd.DataFrame) -> pd.DataFrame:\n",
    "    customers = customers.drop_duplicates(subset='email', keep='first')\n",
    "    return customers"
   ]
  },
  {
   "cell_type": "markdown",
   "id": "f4f5eb1f",
   "metadata": {},
   "source": [
    "## to drop the mssing value"
   ]
  },
  {
   "cell_type": "code",
   "execution_count": 8,
   "id": "27b19f28",
   "metadata": {},
   "outputs": [],
   "source": [
    "import pandas as pd\n",
    "from typing import List\n",
    "def dropMissingData(students: pd.DataFrame) -> pd.DataFrame:\n",
    "    students['name']=students['name'].dropna()\n",
    "    return students"
   ]
  },
  {
   "cell_type": "markdown",
   "id": "0b836196",
   "metadata": {},
   "source": [
    "## to modify the salary column"
   ]
  },
  {
   "cell_type": "code",
   "execution_count": null,
   "id": "599855fb",
   "metadata": {},
   "outputs": [],
   "source": [
    "import pandas as pd\n",
    "from typing import List\n",
    "def modifySalaryColumn(employees: pd.DataFrame) -> pd.DataFrame:\n",
    "    employees['salary']=employees['salary']*2\n",
    "    return employees"
   ]
  },
  {
   "cell_type": "markdown",
   "id": "7943e31e",
   "metadata": {},
   "source": [
    "## rename the column name"
   ]
  },
  {
   "cell_type": "code",
   "execution_count": null,
   "id": "5315dbd1",
   "metadata": {},
   "outputs": [],
   "source": [
    "\n",
    "def renameColumns(students: pd.DataFrame) -> pd.DataFrame:\n",
    "    students.rename(columns={\n",
    "        'id': 'student_id',\n",
    "        'first': 'first_name',\n",
    "        'last': 'last_name',\n",
    "        'age': 'age_in_years'\n",
    "    }, inplace=True)\n",
    "    return students"
   ]
  },
  {
   "cell_type": "markdown",
   "id": "76d4ab11",
   "metadata": {},
   "source": [
    "## to convert the student['grade'] col from float to int"
   ]
  },
  {
   "cell_type": "code",
   "execution_count": null,
   "id": "0d84fdaa",
   "metadata": {},
   "outputs": [],
   "source": [
    "import pandas as pd\n",
    "from typing import List\n",
    "def changeDatatype(students: pd.DataFrame) -> pd.DataFrame:\n",
    "    students['grade']=students['grade'].astype('int32')\n",
    "    return students"
   ]
  },
  {
   "cell_type": "markdown",
   "id": "b28bee45",
   "metadata": {},
   "source": [
    "## to fillna with 0"
   ]
  },
  {
   "cell_type": "code",
   "execution_count": null,
   "id": "d1fd8748",
   "metadata": {},
   "outputs": [],
   "source": [
    "import pandas as pd\n",
    "from typing import List\n",
    "def fillMissingValues(products: pd.DataFrame) -> pd.DataFrame:\n",
    "    products['quantity']=products['quantity'].fillna(0)\n",
    "    return products\n",
    "    "
   ]
  },
  {
   "cell_type": "markdown",
   "id": "8075812e",
   "metadata": {},
   "source": [
    "## to concatenaet teh df1 and df2"
   ]
  },
  {
   "cell_type": "code",
   "execution_count": null,
   "id": "40a12f15",
   "metadata": {},
   "outputs": [],
   "source": [
    "import pandas as pd\n",
    "from typing import List\n",
    "def concatenateTables(df1: pd.DataFrame, df2: pd.DataFrame) -> pd.DataFrame:\n",
    "    return pd.concat([df1,df2])"
   ]
  },
  {
   "cell_type": "markdown",
   "id": "5c245710",
   "metadata": {},
   "source": [
    "## pivot col"
   ]
  },
  {
   "cell_type": "code",
   "execution_count": null,
   "id": "608e7670",
   "metadata": {},
   "outputs": [],
   "source": [
    "import pandas as pd\n",
    "from typing import List\n",
    "\n",
    "def pivotTable(weather: pd.DataFrame) -> pd.DataFrame:\n",
    "    pivoted = weather.pivot(index='month', columns='city', values='temperature')\n",
    "    return pivoted"
   ]
  },
  {
   "cell_type": "markdown",
   "id": "5631ed8f",
   "metadata": {},
   "source": [
    "## pd.melt"
   ]
  },
  {
   "cell_type": "code",
   "execution_count": null,
   "id": "0e08b3b0",
   "metadata": {},
   "outputs": [],
   "source": [
    "import pandas as pd\n",
    "from typing import List\n",
    "\n",
    "def meltTable(sales: pd.DataFrame) -> pd.DataFrame:\n",
    "    reshaped = pd.melt(sales, \n",
    "                       id_vars=['product'],\n",
    "                       value_vars=['quarter_1', 'quarter_2', 'quarter_3', 'quarter_4'],\n",
    "                       var_name='quarter',\n",
    "                       value_name='sales')\n",
    "    return reshaped"
   ]
  },
  {
   "cell_type": "markdown",
   "id": "f382ccde",
   "metadata": {},
   "source": [
    "## to select th animal['weight]more than 100 and sort them by descdending order according to name"
   ]
  },
  {
   "cell_type": "code",
   "execution_count": null,
   "id": "e4e27e39",
   "metadata": {},
   "outputs": [],
   "source": [
    "import pandas as pd\n",
    "from typing import List\n",
    "\n",
    "def findHeavyAnimals(animals: pd.DataFrame) -> pd.DataFrame:\n",
    "    return animals[animals['weight'] > 100].sort_values('weight', ascending=False)[['name']]"
   ]
  },
  {
   "cell_type": "markdown",
   "id": "a5b97b9b",
   "metadata": {},
   "source": [
    "* pd.melt() ka use wide format data ko long format me convert karne ke liye hota hai.\n",
    "Ye ek column ko fixed rakhta hai (id_vars) aur baaki columns ko rows me reshape karta hai."
   ]
  },
  {
   "cell_type": "code",
   "execution_count": 1,
   "id": "4beec14d",
   "metadata": {},
   "outputs": [
    {
     "name": "stdout",
     "output_type": "stream",
     "text": [
      "       product    quarter  sales\n",
      "0     Umbrella  quarter_1    100\n",
      "1  SleepingBag  quarter_1    300\n",
      "2     Umbrella  quarter_2    200\n",
      "3  SleepingBag  quarter_2    400\n"
     ]
    }
   ],
   "source": [
    "import pandas as pd\n",
    "\n",
    "# Step 1: original table\n",
    "df = pd.DataFrame({\n",
    "    'product': ['Umbrella', 'SleepingBag'],\n",
    "    'quarter_1': [100, 300],\n",
    "    'quarter_2': [200, 400]\n",
    "})\n",
    "\n",
    "# Step 2: apply melt\n",
    "reshaped = pd.melt(\n",
    "    df,\n",
    "    id_vars=['product'],           # product column ko waise ka waise rakho\n",
    "    value_vars=['quarter_1', 'quarter_2'],  # ye dono columns ko rows bana do\n",
    "    var_name='quarter',            # naye column ka naam\n",
    "    value_name='sales'             # naye value column ka naam\n",
    ")\n",
    "\n",
    "print(reshaped)\n"
   ]
  },
  {
   "cell_type": "markdown",
   "id": "47a82e06",
   "metadata": {},
   "source": [
    "* pivot() ka kaam hota hai:\n",
    "Long format → Wide format me data convert karna 🧾➡️📊\n",
    "i.e. rows ko columns bana deta hai."
   ]
  },
  {
   "cell_type": "code",
   "execution_count": 2,
   "id": "2177e120",
   "metadata": {},
   "outputs": [
    {
     "name": "stdout",
     "output_type": "stream",
     "text": [
      "product quarter  SleepingBag  Umbrella\n",
      "0            Q1          300       100\n",
      "1            Q2          400       200\n"
     ]
    }
   ],
   "source": [
    "import pandas as pd\n",
    "\n",
    "# Step 1: create original long data\n",
    "df = pd.DataFrame({\n",
    "    'product': ['Umbrella', 'Umbrella', 'SleepingBag', 'SleepingBag'],\n",
    "    'quarter': ['Q1', 'Q2', 'Q1', 'Q2'],\n",
    "    'sales': [100, 200, 300, 400]\n",
    "})\n",
    "\n",
    "# Step 2: pivot the table\n",
    "pivoted = df.pivot(index='quarter', columns='product', values='sales')\n",
    "\n",
    "# Step 3: reset index (optional)\n",
    "pivoted = pivoted.reset_index()\n",
    "\n",
    "print(pivoted)\n"
   ]
  },
  {
   "cell_type": "code",
   "execution_count": null,
   "id": "0f918330",
   "metadata": {},
   "outputs": [],
   "source": []
  }
 ],
 "metadata": {
  "kernelspec": {
   "display_name": "Python 3",
   "language": "python",
   "name": "python3"
  },
  "language_info": {
   "codemirror_mode": {
    "name": "ipython",
    "version": 3
   },
   "file_extension": ".py",
   "mimetype": "text/x-python",
   "name": "python",
   "nbconvert_exporter": "python",
   "pygments_lexer": "ipython3",
   "version": "3.12.2"
  }
 },
 "nbformat": 4,
 "nbformat_minor": 5
}
